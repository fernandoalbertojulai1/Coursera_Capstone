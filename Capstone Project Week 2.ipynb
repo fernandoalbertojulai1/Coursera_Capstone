{
    "nbformat_minor": 1, 
    "cells": [
        {
            "source": "# Methodology", 
            "cell_type": "markdown", 
            "metadata": {
                "collapsed": true
            }
        }, 
        {
            "source": "In this section, the data science methodology will be applicable. The main focus will be to notice and answer the WHERE? question which in this case relates to the geographical location of the most common crimes within the city of Johannesburg. HOW?- The form of weaponry or ways that are used to commit the crimes.WHY?- The reasons that could lead to the successful execution of the most prevalent crimes that is for example theft and robery around tourists is motivated by the assumptions that tourists have enough discretionary income so stealing from them is somewhat justifiable.WHEN?-The most comon season in which a certain type of crime is highly prevalent i.e. the times, days or seasons that have the most reported cases.\n\nAnalytic and Statistical Approach\n\nSince we have a vast number of types of crimes in the location we are looking at, an analytic approach would be good when we are looking at the concrete understanding of the classes of crime we have. Upon understanding the crimes and their classes it would be excellent to use the statistical approach to understand the statistics of these crime classes and those data that are not known e.g the rate of unreported crimes. ", 
            "cell_type": "markdown", 
            "metadata": {}
        }, 
        {
            "source": "### Exploratory Data Analysis", 
            "cell_type": "markdown", 
            "metadata": {}
        }, 
        {
            "source": "from IPython.display import Image\nImage(\"Number_of_reported_rapes_and_rape_rate_in_South_Africa\")", 
            "cell_type": "code", 
            "metadata": {}, 
            "outputs": [
                {
                    "output_type": "execute_result", 
                    "data": {
                        "image/png": "Number_of_reported_rapes_and_rape_rate_in_South_Africa", 
                        "text/plain": "<IPython.core.display.Image object>"
                    }, 
                    "execution_count": 22, 
                    "metadata": {}
                }
            ], 
            "execution_count": 22
        }, 
        {
            "source": "import lxml.html as lh\nimport pandas as pd\n\nurl = \"http://en.wikipedia.org/wiki/sexual_violence_in_South_Africa\"", 
            "cell_type": "code", 
            "metadata": {}, 
            "outputs": [], 
            "execution_count": 15
        }, 
        {
            "source": "Number of reported rapes and rape rate in South Africa[5] \nYear \nReported Rapes \n2008/9 \n46,647 \n95 \n2009/10 \n48,259 \n96 \n2010/11 \n48,158 \n95 \n2011/12 \n47,069 \n91 \n2012/13 \n48,408 \n92 \n2013/14 \n48,408 \n85 \n2014/15 \n43,195 \n80 \n2015/16 \n42,596 \n77 ", 
            "cell_type": "markdown", 
            "metadata": {}
        }, 
        {
            "source": "Upon looking at the data you will realise that it is highly relevant for the Geo-location API to  be in uses so that it will reduce and curb the different types of crimes.", 
            "cell_type": "markdown", 
            "metadata": {}
        }, 
        {
            "source": "### Results Section\n", 
            "cell_type": "markdown", 
            "metadata": {}
        }, 
        {
            "source": "The results of the deployment of the Geo-location API is that predictively there will have a reduction in crime rate due to the fact that, the  responsible authorities will always stay alert of the possible crimes commited therefore putting relevant security measures to reduce crime rate. Apart from security alertness it is also very important for all the data collection centers e.g. statistical office to be able to see how statistically the crime rates are recuperating. This Project will be a viable and most important one for all stakeholders", 
            "cell_type": "markdown", 
            "metadata": {}
        }, 
        {
            "source": "### Discussion Section\n\nMany a times we have noted a lot of aid from other different Geo-location API's that are  for example Foursquare but the addition of a CRIMEPEDIA to the information window would work wonders in crime awareness, crime reduction and crime prediction to habour high crime rates. Noteable recommendations can be given that are related but not limited to making the Geo-location API compatible with Android,IOS an many other cellphone supporting softwares. Also it has to be easily accessed through downloading platforms like Google Playstore since the greatest challenge could be the problem of low public awareness of the importance of the Geo-location API.   ", 
            "cell_type": "markdown", 
            "metadata": {}
        }, 
        {
            "source": "### Conclusion Section", 
            "cell_type": "markdown", 
            "metadata": {}
        }, 
        {
            "source": "Conclusively it can be noted that all the recorded crimes and all unrecorded crimes can only be reduced through awareness and involvement of all stakeholders in making the Geo-location API a relevant tool in crime erradication. The developer of the Geo-location API would also probably make a Promo to encourage all the possible and potential users to access this tool on a more beneficial level.", 
            "cell_type": "markdown", 
            "metadata": {}
        }, 
        {
            "source": "", 
            "cell_type": "code", 
            "metadata": {}, 
            "outputs": [], 
            "execution_count": null
        }
    ], 
    "metadata": {
        "kernelspec": {
            "display_name": "Python 3.5", 
            "name": "python3", 
            "language": "python"
        }, 
        "language_info": {
            "mimetype": "text/x-python", 
            "nbconvert_exporter": "python", 
            "version": "3.5.5", 
            "name": "python", 
            "file_extension": ".py", 
            "pygments_lexer": "ipython3", 
            "codemirror_mode": {
                "version": 3, 
                "name": "ipython"
            }
        }
    }, 
    "nbformat": 4
}
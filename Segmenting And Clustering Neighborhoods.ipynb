{
    "nbformat_minor": 1, 
    "cells": [
        {
            "execution_count": 25, 
            "cell_type": "code", 
            "metadata": {}, 
            "outputs": [
                {
                    "execution_count": 25, 
                    "metadata": {}, 
                    "data": {
                        "image/png": "postal_codes_canada_wikipedia.png", 
                        "text/plain": "<IPython.core.display.Image object>"
                    }, 
                    "output_type": "execute_result"
                }
            ], 
            "source": "from IPython.display import Image\nImage(\"postal_codes_canada_wikipedia.png\")"
        }, 
        {
            "execution_count": 26, 
            "cell_type": "code", 
            "metadata": {}, 
            "outputs": [], 
            "source": "import requests\nimport lxml.html as lh\nimport pandas as pd\n\nurl = \"https://en.wikipedia.org/wiki/List_of_postal_codes_of_Canada:_M\""
        }, 
        {
            "execution_count": 27, 
            "cell_type": "code", 
            "metadata": {}, 
            "outputs": [], 
            "source": "page = requests.get(url)\ndoc = lh.fromstring(page.content)"
        }, 
        {
            "execution_count": 28, 
            "cell_type": "code", 
            "metadata": {}, 
            "outputs": [], 
            "source": "tr_elements = doc.xpath('//tr')"
        }, 
        {
            "execution_count": 29, 
            "cell_type": "code", 
            "metadata": {}, 
            "outputs": [
                {
                    "execution_count": 29, 
                    "metadata": {}, 
                    "data": {
                        "text/plain": "(list, 294)"
                    }, 
                    "output_type": "execute_result"
                }
            ], 
            "source": "type(tr_elements), len(tr_elements)"
        }, 
        {
            "execution_count": 30, 
            "cell_type": "code", 
            "metadata": {}, 
            "outputs": [
                {
                    "output_type": "stream", 
                    "name": "stdout", 
                    "text": "\nPostcode\nBorough\nNeighbourhood\n\n\nM1A\nNot assigned\nNot assigned\n\n"
                }
            ], 
            "source": "print(tr_elements[0].text_content())\nprint(tr_elements[1].text_content())"
        }, 
        {
            "execution_count": 31, 
            "cell_type": "code", 
            "metadata": {}, 
            "outputs": [], 
            "source": "data = []\nfor tr in tr_elements:\n    tr_content = tr.text_content().split(\"\\n\")\n    row = [item for item in tr_content if str(item).strip() != \"\"]\n    if len(row) == 3:\n        data.append(row)"
        }, 
        {
            "execution_count": 32, 
            "cell_type": "code", 
            "metadata": {}, 
            "outputs": [
                {
                    "execution_count": 32, 
                    "metadata": {}, 
                    "data": {
                        "text/html": "<div>\n<style scoped>\n    .dataframe tbody tr th:only-of-type {\n        vertical-align: middle;\n    }\n\n    .dataframe tbody tr th {\n        vertical-align: top;\n    }\n\n    .dataframe thead th {\n        text-align: right;\n    }\n</style>\n<table border=\"1\" class=\"dataframe\">\n  <thead>\n    <tr style=\"text-align: right;\">\n      <th></th>\n      <th>Postcode</th>\n      <th>Borough</th>\n      <th>Neighbourhood</th>\n    </tr>\n  </thead>\n  <tbody>\n    <tr>\n      <th>0</th>\n      <td>M3A</td>\n      <td>North York</td>\n      <td>Parkwoods</td>\n    </tr>\n    <tr>\n      <th>1</th>\n      <td>M4A</td>\n      <td>North York</td>\n      <td>Victoria Village</td>\n    </tr>\n    <tr>\n      <th>2</th>\n      <td>M5A</td>\n      <td>Downtown Toronto</td>\n      <td>Harbourfront</td>\n    </tr>\n  </tbody>\n</table>\n</div>", 
                        "text/plain": "  Postcode           Borough     Neighbourhood\n0      M3A        North York         Parkwoods\n1      M4A        North York  Victoria Village\n2      M5A  Downtown Toronto      Harbourfront"
                    }, 
                    "output_type": "execute_result"
                }
            ], 
            "source": "df = pd.DataFrame(data)\ndf.columns = df.loc[0].values.tolist()\ndf.drop(df.index[0], inplace=True)\ndf = df[df[\"Borough\"] != \"Not assigned\"]\ndf.reset_index(inplace=True, drop=True)\ndf.head(3)"
        }, 
        {
            "execution_count": 33, 
            "cell_type": "code", 
            "metadata": {}, 
            "outputs": [
                {
                    "execution_count": 33, 
                    "metadata": {}, 
                    "data": {
                        "text/html": "<div>\n<style scoped>\n    .dataframe tbody tr th:only-of-type {\n        vertical-align: middle;\n    }\n\n    .dataframe tbody tr th {\n        vertical-align: top;\n    }\n\n    .dataframe thead th {\n        text-align: right;\n    }\n</style>\n<table border=\"1\" class=\"dataframe\">\n  <thead>\n    <tr style=\"text-align: right;\">\n      <th></th>\n      <th>Postcode</th>\n      <th>Borough</th>\n      <th>Neighbourhood</th>\n    </tr>\n  </thead>\n  <tbody>\n    <tr>\n      <th>6</th>\n      <td>M7A</td>\n      <td>Queen's Park</td>\n      <td>Not assigned</td>\n    </tr>\n  </tbody>\n</table>\n</div>", 
                        "text/plain": "  Postcode       Borough Neighbourhood\n6      M7A  Queen's Park  Not assigned"
                    }, 
                    "output_type": "execute_result"
                }
            ], 
            "source": "df[df[\"Neighbourhood\"] == \"Not assigned\"] "
        }, 
        {
            "execution_count": 34, 
            "cell_type": "code", 
            "metadata": {}, 
            "outputs": [
                {
                    "output_type": "stream", 
                    "name": "stdout", 
                    "text": "[\"Queen's Park\"]\n"
                }, 
                {
                    "execution_count": 34, 
                    "metadata": {}, 
                    "data": {
                        "text/html": "<div>\n<style scoped>\n    .dataframe tbody tr th:only-of-type {\n        vertical-align: middle;\n    }\n\n    .dataframe tbody tr th {\n        vertical-align: top;\n    }\n\n    .dataframe thead th {\n        text-align: right;\n    }\n</style>\n<table border=\"1\" class=\"dataframe\">\n  <thead>\n    <tr style=\"text-align: right;\">\n      <th></th>\n      <th>Borough</th>\n      <th>Neighbourhood</th>\n      <th>PostCode</th>\n    </tr>\n  </thead>\n  <tbody>\n    <tr>\n      <th>0</th>\n      <td>North York</td>\n      <td>Parkwoods</td>\n      <td>M3A</td>\n    </tr>\n    <tr>\n      <th>1</th>\n      <td>North York</td>\n      <td>Victoria Village</td>\n      <td>M4A</td>\n    </tr>\n    <tr>\n      <th>2</th>\n      <td>Downtown Toronto</td>\n      <td>Harbourfront, Regent Park</td>\n      <td>M5A</td>\n    </tr>\n    <tr>\n      <th>3</th>\n      <td>North York</td>\n      <td>Lawrence Heights, Lawrence Manor</td>\n      <td>M6A</td>\n    </tr>\n    <tr>\n      <th>4</th>\n      <td>Queen's Park</td>\n      <td>Queen's Park</td>\n      <td>M7A</td>\n    </tr>\n    <tr>\n      <th>5</th>\n      <td>Etobicoke</td>\n      <td>Islington Avenue</td>\n      <td>M9A</td>\n    </tr>\n    <tr>\n      <th>6</th>\n      <td>Scarborough</td>\n      <td>Rouge, Malvern</td>\n      <td>M1B</td>\n    </tr>\n    <tr>\n      <th>7</th>\n      <td>North York</td>\n      <td>Don Mills North</td>\n      <td>M3B</td>\n    </tr>\n    <tr>\n      <th>8</th>\n      <td>East York</td>\n      <td>Woodbine Gardens, Parkview Hill</td>\n      <td>M4B</td>\n    </tr>\n    <tr>\n      <th>9</th>\n      <td>Downtown Toronto</td>\n      <td>Ryerson, Garden District</td>\n      <td>M5B</td>\n    </tr>\n    <tr>\n      <th>10</th>\n      <td>North York</td>\n      <td>Glencairn</td>\n      <td>M6B</td>\n    </tr>\n    <tr>\n      <th>11</th>\n      <td>Etobicoke</td>\n      <td>Cloverdale, Islington, Martin Grove, Princess ...</td>\n      <td>M9B</td>\n    </tr>\n    <tr>\n      <th>12</th>\n      <td>Scarborough</td>\n      <td>Highland Creek, Rouge Hill, Port Union</td>\n      <td>M1C</td>\n    </tr>\n    <tr>\n      <th>13</th>\n      <td>North York</td>\n      <td>Flemingdon Park, Don Mills South</td>\n      <td>M3C</td>\n    </tr>\n    <tr>\n      <th>14</th>\n      <td>East York</td>\n      <td>Woodbine Heights</td>\n      <td>M4C</td>\n    </tr>\n    <tr>\n      <th>15</th>\n      <td>Downtown Toronto</td>\n      <td>St. James Town</td>\n      <td>M5C</td>\n    </tr>\n    <tr>\n      <th>16</th>\n      <td>York</td>\n      <td>Humewood-Cedarvale</td>\n      <td>M6C</td>\n    </tr>\n    <tr>\n      <th>17</th>\n      <td>Etobicoke</td>\n      <td>Bloordale Gardens, Eringate, Markland Wood, Ol...</td>\n      <td>M9C</td>\n    </tr>\n    <tr>\n      <th>18</th>\n      <td>Scarborough</td>\n      <td>Guildwood, Morningside, West Hill</td>\n      <td>M1E</td>\n    </tr>\n    <tr>\n      <th>19</th>\n      <td>East Toronto</td>\n      <td>The Beaches</td>\n      <td>M4E</td>\n    </tr>\n    <tr>\n      <th>20</th>\n      <td>Downtown Toronto</td>\n      <td>Berczy Park</td>\n      <td>M5E</td>\n    </tr>\n    <tr>\n      <th>21</th>\n      <td>York</td>\n      <td>Caledonia-Fairbanks</td>\n      <td>M6E</td>\n    </tr>\n    <tr>\n      <th>22</th>\n      <td>Scarborough</td>\n      <td>Woburn</td>\n      <td>M1G</td>\n    </tr>\n    <tr>\n      <th>23</th>\n      <td>East York</td>\n      <td>Leaside</td>\n      <td>M4G</td>\n    </tr>\n    <tr>\n      <th>24</th>\n      <td>Downtown Toronto</td>\n      <td>Central Bay Street</td>\n      <td>M5G</td>\n    </tr>\n    <tr>\n      <th>25</th>\n      <td>Downtown Toronto</td>\n      <td>Christie</td>\n      <td>M6G</td>\n    </tr>\n    <tr>\n      <th>26</th>\n      <td>Scarborough</td>\n      <td>Cedarbrae</td>\n      <td>M1H</td>\n    </tr>\n    <tr>\n      <th>27</th>\n      <td>North York</td>\n      <td>Hillcrest Village</td>\n      <td>M2H</td>\n    </tr>\n    <tr>\n      <th>28</th>\n      <td>North York</td>\n      <td>Bathurst Manor, Downsview North, Wilson Heights</td>\n      <td>M3H</td>\n    </tr>\n    <tr>\n      <th>29</th>\n      <td>East York</td>\n      <td>Thorncliffe Park</td>\n      <td>M4H</td>\n    </tr>\n    <tr>\n      <th>...</th>\n      <td>...</td>\n      <td>...</td>\n      <td>...</td>\n    </tr>\n    <tr>\n      <th>73</th>\n      <td>Central Toronto</td>\n      <td>North Toronto West</td>\n      <td>M4R</td>\n    </tr>\n    <tr>\n      <th>74</th>\n      <td>Central Toronto</td>\n      <td>The Annex, North Midtown, Yorkville</td>\n      <td>M5R</td>\n    </tr>\n    <tr>\n      <th>75</th>\n      <td>West Toronto</td>\n      <td>Parkdale, Roncesvalles</td>\n      <td>M6R</td>\n    </tr>\n    <tr>\n      <th>76</th>\n      <td>Mississauga</td>\n      <td>Canada Post Gateway Processing Centre</td>\n      <td>M7R</td>\n    </tr>\n    <tr>\n      <th>77</th>\n      <td>Etobicoke</td>\n      <td>Kingsview Village, Martin Grove Gardens, Richv...</td>\n      <td>M9R</td>\n    </tr>\n    <tr>\n      <th>78</th>\n      <td>Scarborough</td>\n      <td>Agincourt</td>\n      <td>M1S</td>\n    </tr>\n    <tr>\n      <th>79</th>\n      <td>Central Toronto</td>\n      <td>Davisville</td>\n      <td>M4S</td>\n    </tr>\n    <tr>\n      <th>80</th>\n      <td>Downtown Toronto</td>\n      <td>Harbord, University of Toronto</td>\n      <td>M5S</td>\n    </tr>\n    <tr>\n      <th>81</th>\n      <td>West Toronto</td>\n      <td>Runnymede, Swansea</td>\n      <td>M6S</td>\n    </tr>\n    <tr>\n      <th>82</th>\n      <td>Scarborough</td>\n      <td>Clarks Corners, Sullivan, Tam O'Shanter</td>\n      <td>M1T</td>\n    </tr>\n    <tr>\n      <th>83</th>\n      <td>Central Toronto</td>\n      <td>Moore Park, Summerhill East</td>\n      <td>M4T</td>\n    </tr>\n    <tr>\n      <th>84</th>\n      <td>Downtown Toronto</td>\n      <td>Chinatown, Grange Park, Kensington Market</td>\n      <td>M5T</td>\n    </tr>\n    <tr>\n      <th>85</th>\n      <td>Scarborough</td>\n      <td>Agincourt North, L'Amoreaux East, Milliken, St...</td>\n      <td>M1V</td>\n    </tr>\n    <tr>\n      <th>86</th>\n      <td>Central Toronto</td>\n      <td>Deer Park, Forest Hill SE, Rathnelly, South Hi...</td>\n      <td>M4V</td>\n    </tr>\n    <tr>\n      <th>87</th>\n      <td>Downtown Toronto</td>\n      <td>CN Tower, Bathurst Quay, Island airport, Harbo...</td>\n      <td>M5V</td>\n    </tr>\n    <tr>\n      <th>88</th>\n      <td>Etobicoke</td>\n      <td>Humber Bay Shores, Mimico South, New Toronto</td>\n      <td>M8V</td>\n    </tr>\n    <tr>\n      <th>89</th>\n      <td>Etobicoke</td>\n      <td>Albion Gardens, Beaumond Heights, Humbergate, ...</td>\n      <td>M9V</td>\n    </tr>\n    <tr>\n      <th>90</th>\n      <td>Scarborough</td>\n      <td>L'Amoreaux West</td>\n      <td>M1W</td>\n    </tr>\n    <tr>\n      <th>91</th>\n      <td>Downtown Toronto</td>\n      <td>Rosedale</td>\n      <td>M4W</td>\n    </tr>\n    <tr>\n      <th>92</th>\n      <td>Downtown Toronto</td>\n      <td>Stn A PO Boxes 25 The Esplanade</td>\n      <td>M5W</td>\n    </tr>\n    <tr>\n      <th>93</th>\n      <td>Etobicoke</td>\n      <td>Alderwood, Long Branch</td>\n      <td>M8W</td>\n    </tr>\n    <tr>\n      <th>94</th>\n      <td>Etobicoke</td>\n      <td>Northwest</td>\n      <td>M9W</td>\n    </tr>\n    <tr>\n      <th>95</th>\n      <td>Scarborough</td>\n      <td>Upper Rouge</td>\n      <td>M1X</td>\n    </tr>\n    <tr>\n      <th>96</th>\n      <td>Downtown Toronto</td>\n      <td>Cabbagetown, St. James Town</td>\n      <td>M4X</td>\n    </tr>\n    <tr>\n      <th>97</th>\n      <td>Downtown Toronto</td>\n      <td>First Canadian Place, Underground city</td>\n      <td>M5X</td>\n    </tr>\n    <tr>\n      <th>98</th>\n      <td>Etobicoke</td>\n      <td>The Kingsway, Montgomery Road, Old Mill North</td>\n      <td>M8X</td>\n    </tr>\n    <tr>\n      <th>99</th>\n      <td>Downtown Toronto</td>\n      <td>Church and Wellesley</td>\n      <td>M4Y</td>\n    </tr>\n    <tr>\n      <th>100</th>\n      <td>East Toronto</td>\n      <td>Business Reply Mail Processing Centre 969 Eastern</td>\n      <td>M7Y</td>\n    </tr>\n    <tr>\n      <th>101</th>\n      <td>Etobicoke</td>\n      <td>Humber Bay, King's Mill Park, Kingsway Park So...</td>\n      <td>M8Y</td>\n    </tr>\n    <tr>\n      <th>102</th>\n      <td>Etobicoke</td>\n      <td>Kingsway Park South West, Mimico NW, The Queen...</td>\n      <td>M8Z</td>\n    </tr>\n  </tbody>\n</table>\n<p>103 rows \u00d7 3 columns</p>\n</div>", 
                        "text/plain": "              Borough                                      Neighbourhood  \\\n0          North York                                          Parkwoods   \n1          North York                                   Victoria Village   \n2    Downtown Toronto                          Harbourfront, Regent Park   \n3          North York                   Lawrence Heights, Lawrence Manor   \n4        Queen's Park                                       Queen's Park   \n5           Etobicoke                                   Islington Avenue   \n6         Scarborough                                     Rouge, Malvern   \n7          North York                                    Don Mills North   \n8           East York                    Woodbine Gardens, Parkview Hill   \n9    Downtown Toronto                           Ryerson, Garden District   \n10         North York                                          Glencairn   \n11          Etobicoke  Cloverdale, Islington, Martin Grove, Princess ...   \n12        Scarborough             Highland Creek, Rouge Hill, Port Union   \n13         North York                   Flemingdon Park, Don Mills South   \n14          East York                                   Woodbine Heights   \n15   Downtown Toronto                                     St. James Town   \n16               York                                 Humewood-Cedarvale   \n17          Etobicoke  Bloordale Gardens, Eringate, Markland Wood, Ol...   \n18        Scarborough                  Guildwood, Morningside, West Hill   \n19       East Toronto                                        The Beaches   \n20   Downtown Toronto                                        Berczy Park   \n21               York                                Caledonia-Fairbanks   \n22        Scarborough                                             Woburn   \n23          East York                                            Leaside   \n24   Downtown Toronto                                 Central Bay Street   \n25   Downtown Toronto                                           Christie   \n26        Scarborough                                          Cedarbrae   \n27         North York                                  Hillcrest Village   \n28         North York    Bathurst Manor, Downsview North, Wilson Heights   \n29          East York                                   Thorncliffe Park   \n..                ...                                                ...   \n73    Central Toronto                                 North Toronto West   \n74    Central Toronto                The Annex, North Midtown, Yorkville   \n75       West Toronto                             Parkdale, Roncesvalles   \n76        Mississauga              Canada Post Gateway Processing Centre   \n77          Etobicoke  Kingsview Village, Martin Grove Gardens, Richv...   \n78        Scarborough                                          Agincourt   \n79    Central Toronto                                         Davisville   \n80   Downtown Toronto                     Harbord, University of Toronto   \n81       West Toronto                                 Runnymede, Swansea   \n82        Scarborough            Clarks Corners, Sullivan, Tam O'Shanter   \n83    Central Toronto                        Moore Park, Summerhill East   \n84   Downtown Toronto          Chinatown, Grange Park, Kensington Market   \n85        Scarborough  Agincourt North, L'Amoreaux East, Milliken, St...   \n86    Central Toronto  Deer Park, Forest Hill SE, Rathnelly, South Hi...   \n87   Downtown Toronto  CN Tower, Bathurst Quay, Island airport, Harbo...   \n88          Etobicoke       Humber Bay Shores, Mimico South, New Toronto   \n89          Etobicoke  Albion Gardens, Beaumond Heights, Humbergate, ...   \n90        Scarborough                                    L'Amoreaux West   \n91   Downtown Toronto                                           Rosedale   \n92   Downtown Toronto                    Stn A PO Boxes 25 The Esplanade   \n93          Etobicoke                             Alderwood, Long Branch   \n94          Etobicoke                                          Northwest   \n95        Scarborough                                        Upper Rouge   \n96   Downtown Toronto                        Cabbagetown, St. James Town   \n97   Downtown Toronto             First Canadian Place, Underground city   \n98          Etobicoke      The Kingsway, Montgomery Road, Old Mill North   \n99   Downtown Toronto                               Church and Wellesley   \n100      East Toronto  Business Reply Mail Processing Centre 969 Eastern   \n101         Etobicoke  Humber Bay, King's Mill Park, Kingsway Park So...   \n102         Etobicoke  Kingsway Park South West, Mimico NW, The Queen...   \n\n    PostCode  \n0        M3A  \n1        M4A  \n2        M5A  \n3        M6A  \n4        M7A  \n5        M9A  \n6        M1B  \n7        M3B  \n8        M4B  \n9        M5B  \n10       M6B  \n11       M9B  \n12       M1C  \n13       M3C  \n14       M4C  \n15       M5C  \n16       M6C  \n17       M9C  \n18       M1E  \n19       M4E  \n20       M5E  \n21       M6E  \n22       M1G  \n23       M4G  \n24       M5G  \n25       M6G  \n26       M1H  \n27       M2H  \n28       M3H  \n29       M4H  \n..       ...  \n73       M4R  \n74       M5R  \n75       M6R  \n76       M7R  \n77       M9R  \n78       M1S  \n79       M4S  \n80       M5S  \n81       M6S  \n82       M1T  \n83       M4T  \n84       M5T  \n85       M1V  \n86       M4V  \n87       M5V  \n88       M8V  \n89       M9V  \n90       M1W  \n91       M4W  \n92       M5W  \n93       M8W  \n94       M9W  \n95       M1X  \n96       M4X  \n97       M5X  \n98       M8X  \n99       M4Y  \n100      M7Y  \n101      M8Y  \n102      M8Z  \n\n[103 rows x 3 columns]"
                    }, 
                    "output_type": "execute_result"
                }
            ], 
            "source": "pd.options.mode.chained_assignment = None  # default='warn'\n\npostcodes = df[\"Postcode\"].unique()\nneighbourhoods = []\nboroughs = []\nfor postcode in postcodes:\n    boro = df[df[\"Postcode\"] == postcode][\"Borough\"].unique().tolist()\n    if len(boro) != 1:\n        raise ValueError(\"There should only be one Borough\")\n    boroughs.append(boro[0])\n    \n    hood = df[df[\"Postcode\"] == postcode][\"Neighbourhood\"].unique().tolist()\n    neighbourhoods.append(\", \".join(hood))\n\ndft = pd.DataFrame({\"Postcode\": postcodes, \"Borough\": boroughs, \"Neighbourhood\": neighbourhoods})\n\n# If a cell has a borough but a Not assigned neighborhood, then the neighborhood will be the same as the borough. \n# specifially, this turns up for M7A, Queen's Park above\nborough_tocopy = dft.loc[dft[\"Neighbourhood\"]==\"Not assigned\"][\"Borough\"].values.tolist()\nprint(borough_tocopy)\ndft.loc[dft[\"Neighbourhood\"]==\"Not assigned\", \"Neighbourhood\"] = borough_tocopy\n\n# rename the postal code column\ndft.rename(columns={'Postcode':'PostCode'}, inplace=True)\ndft"
        }, 
        {
            "execution_count": 35, 
            "cell_type": "code", 
            "metadata": {}, 
            "outputs": [
                {
                    "execution_count": 35, 
                    "metadata": {}, 
                    "data": {
                        "text/html": "<div>\n<style scoped>\n    .dataframe tbody tr th:only-of-type {\n        vertical-align: middle;\n    }\n\n    .dataframe tbody tr th {\n        vertical-align: top;\n    }\n\n    .dataframe thead th {\n        text-align: right;\n    }\n</style>\n<table border=\"1\" class=\"dataframe\">\n  <thead>\n    <tr style=\"text-align: right;\">\n      <th></th>\n      <th>Borough</th>\n      <th>Neighbourhood</th>\n      <th>PostCode</th>\n    </tr>\n  </thead>\n  <tbody>\n    <tr>\n      <th>2</th>\n      <td>Downtown Toronto</td>\n      <td>Harbourfront, Regent Park</td>\n      <td>M5A</td>\n    </tr>\n  </tbody>\n</table>\n</div>", 
                        "text/plain": "            Borough              Neighbourhood PostCode\n2  Downtown Toronto  Harbourfront, Regent Park      M5A"
                    }, 
                    "output_type": "execute_result"
                }
            ], 
            "source": "dft[dft[\"PostCode\"] == \"M5A\"]"
        }, 
        {
            "execution_count": 36, 
            "cell_type": "code", 
            "metadata": {}, 
            "outputs": [
                {
                    "execution_count": 36, 
                    "metadata": {}, 
                    "data": {
                        "text/html": "<div>\n<style scoped>\n    .dataframe tbody tr th:only-of-type {\n        vertical-align: middle;\n    }\n\n    .dataframe tbody tr th {\n        vertical-align: top;\n    }\n\n    .dataframe thead th {\n        text-align: right;\n    }\n</style>\n<table border=\"1\" class=\"dataframe\">\n  <thead>\n    <tr style=\"text-align: right;\">\n      <th></th>\n      <th>Borough</th>\n      <th>Neighbourhood</th>\n      <th>PostCode</th>\n    </tr>\n  </thead>\n  <tbody>\n    <tr>\n      <th>4</th>\n      <td>Queen's Park</td>\n      <td>Queen's Park</td>\n      <td>M7A</td>\n    </tr>\n  </tbody>\n</table>\n</div>", 
                        "text/plain": "        Borough Neighbourhood PostCode\n4  Queen's Park  Queen's Park      M7A"
                    }, 
                    "output_type": "execute_result"
                }
            ], 
            "source": "dft[dft[\"PostCode\"] == \"M7A\"] "
        }, 
        {
            "execution_count": 37, 
            "cell_type": "code", 
            "metadata": {}, 
            "outputs": [
                {
                    "execution_count": 37, 
                    "metadata": {}, 
                    "data": {
                        "text/plain": "(103, 3)"
                    }, 
                    "output_type": "execute_result"
                }
            ], 
            "source": "dft.shape "
        }, 
        {
            "source": "", 
            "cell_type": "markdown", 
            "metadata": {}
        }, 
        {
            "execution_count": null, 
            "cell_type": "code", 
            "metadata": {}, 
            "outputs": [], 
            "source": "import geocoder"
        }, 
        {
            "execution_count": null, 
            "cell_type": "code", 
            "metadata": {}, 
            "outputs": [], 
            "source": "# initialize your variable to None\npostal_code = \"M5G\"\nlat_lng_coords = None\n\n# loop until you get the coordinates\ncounter = 0\nwhile(lat_lng_coords is None):\n    counter += 1\n    g = geocoder.google('{}, Toronto, Ontario'.format(postal_code))\n    lat_lng_coords = g.latlng\n    print(\"Attempt %d, lat_lng_coords = %s\" % (counter, str(lat_lng_coords)))\n    if counter >= 10:\n        break"
        }, 
        {
            "execution_count": null, 
            "cell_type": "code", 
            "metadata": {}, 
            "outputs": [], 
            "source": "df_coords = pd.read_csv(\"Geospatial_Coordinates.csv\")\ndf_coords.rename(columns={'Postal Code':'PostCode'}, inplace=True)\ndf_coords.set_index(\"PostCode\", inplace=True)\ndf_coords.head(3)"
        }, 
        {
            "execution_count": null, 
            "cell_type": "code", 
            "metadata": {}, 
            "outputs": [], 
            "source": "lat = []\nlng = []\nfor pc in dft[\"PostCode\"].values:\n    lat.append(df_coords.at[pc, \"Latitude\"])\n    lng.append(df_coords.at[pc, \"Longitude\"])"
        }, 
        {
            "execution_count": null, 
            "cell_type": "code", 
            "metadata": {}, 
            "outputs": [], 
            "source": "dft[\"Latitude\"] = lat\ndft[\"Longitude\"] = lng\n\ndft"
        }, 
        {
            "execution_count": null, 
            "cell_type": "code", 
            "metadata": {}, 
            "outputs": [], 
            "source": "dft[dft[\"PostCode\"] == \"M5G\"]"
        }, 
        {
            "execution_count": null, 
            "cell_type": "code", 
            "metadata": {}, 
            "outputs": [], 
            "source": "dft[dft[\"PostCode\"] == \"M5A\"]"
        }, 
        {
            "execution_count": null, 
            "cell_type": "code", 
            "metadata": {}, 
            "outputs": [], 
            "source": "import numpy as np # library to handle data in a vectorized manner\n\nimport pandas as pd # library for data analsysis\npd.set_option('display.max_columns', None)\npd.set_option('display.max_rows', None)\n\nimport json # library to handle JSON files\n\nfrom geopy.geocoders import Nominatim # convert an address into latitude and longitude values\n\nimport requests # library to handle requests\nfrom pandas.io.json import json_normalize # tranform JSON file into a pandas dataframe\n\n# Matplotlib and associated plotting modules\nimport matplotlib.cm as cm\nimport matplotlib.colors as colors\n\n# import k-means from clustering stage\nfrom sklearn.cluster import KMeans\n\nimport folium # map rendering library\n\nprint('Libraries imported.')"
        }, 
        {
            "execution_count": null, 
            "cell_type": "code", 
            "metadata": {}, 
            "outputs": [], 
            "source": "# https://www.latlong.net/place/toronto-on-canada-27230.html\ntlat = 43.651070\ntlng = -79.347015"
        }, 
        {
            "execution_count": null, 
            "cell_type": "code", 
            "metadata": {}, 
            "outputs": [], 
            "source": "dft.columns"
        }, 
        {
            "execution_count": null, 
            "cell_type": "code", 
            "metadata": {}, 
            "outputs": [], 
            "source": "map_toronto = folium.Map(location=[tlat, tlng], zoom_start=10)\n\n# add markers to map\nfor lat, lng, borough, neighborhood in zip(dft['Latitude'], dft['Longitude'], dft['Borough'], dft['Neighbourhood']):\n    label = '{}, {}'.format(neighborhood, borough)\n    label = folium.Popup(label, parse_html=True)\n    folium.CircleMarker(\n        [lat, lng],\n        radius=5,\n        popup=label,\n        color='blue',\n        fill=True,\n        fill_color='#3186cc',\n        fill_opacity=0.7,\n        parse_html=False).add_to(map_toronto)  \n\nmap_toronto"
        }, 
        {
            "execution_count": null, 
            "cell_type": "code", 
            "metadata": {}, 
            "outputs": [], 
            "source": "CLIENT_ID = '2NOYPO3T3EULZM4SMI5Q4B00SBBLEYD3LWNYARIQNGQMIPWB'     # your Foursquare ID\nCLIENT_SECRET = 'RHT5F4BM1TSDIMA33YRGST1POCB3VZQ2UNNQR2ZC3245Q4UI' # your Foursquare Secret\nVERSION = '20180605' # Foursquare API version\n\nprint('Your credentails:')\nprint('CLIENT_ID: ' + CLIENT_ID)\nprint('CLIENT_SECRET:' + CLIENT_SECRET)"
        }, 
        {
            "execution_count": null, 
            "cell_type": "code", 
            "metadata": {}, 
            "outputs": [], 
            "source": "dff = dft[dft[\"Borough\"].str.contains(\"Toronto\")]\ndff.head()"
        }, 
        {
            "execution_count": null, 
            "cell_type": "code", 
            "metadata": {}, 
            "outputs": [], 
            "source": "len(dff.index)"
        }, 
        {
            "execution_count": null, 
            "cell_type": "code", 
            "metadata": {}, 
            "outputs": [], 
            "source": "lats = dff[\"Latitude\"].values.tolist()\nlngs = dff[\"Longitude\"].values.tolist()\nlen(lats), len(lngs)"
        }, 
        {
            "execution_count": null, 
            "cell_type": "code", 
            "metadata": {}, 
            "outputs": [], 
            "source": "map_toronto = folium.Map(location=[tlat, tlng], zoom_start=10)\n\n# add markers to map\nfor lat, lng, borough, neighborhood in zip(dff['Latitude'], dff['Longitude'], dff['Borough'], dff['Neighbourhood']):\n    label = '{}, {}'.format(neighborhood, borough)\n    label = folium.Popup(label, parse_html=True)\n    folium.CircleMarker(\n        [lat, lng],\n        radius=5,\n        popup=label,\n        color='blue',\n        fill=True,\n        fill_color='#3186cc',\n        fill_opacity=0.7,\n        parse_html=False).add_to(map_toronto)  \n\nmap_toronto"
        }, 
        {
            "execution_count": null, 
            "cell_type": "code", 
            "metadata": {}, 
            "outputs": [], 
            "source": "def make_venues_url(lat, lng, radius=100, limit=500):\n    url = \"https://api.foursquare.com/v2/venues/explore?\" \\\n        + \"client_id={}\".format(CLIENT_ID) \\\n        + \"&client_secret={}\".format(CLIENT_SECRET) \\\n        + \"&v={}\".format(VERSION) \\\n        + \"&ll={},{}\".format(lat, lng) \\\n        + \"&radius={}\".format(radius) \\\n        + \"&limit={}\".format(limit)\n    return url\n\nurl = make_venues_url(lats[0], lngs[0])\nurl"
        }, 
        {
            "execution_count": null, 
            "cell_type": "code", 
            "metadata": {}, 
            "outputs": [], 
            "source": "results = requests.get(url).json()"
        }, 
        {
            "execution_count": null, 
            "cell_type": "code", 
            "metadata": {}, 
            "outputs": [], 
            "source": "type(results[\"response\"])"
        }, 
        {
            "execution_count": null, 
            "cell_type": "code", 
            "metadata": {}, 
            "outputs": [], 
            "source": "list(results[\"response\"].keys())"
        }, 
        {
            "execution_count": null, 
            "cell_type": "code", 
            "metadata": {}, 
            "outputs": [], 
            "source": "results[\"response\"][\"totalResults\"]"
        }, 
        {
            "execution_count": null, 
            "cell_type": "code", 
            "metadata": {}, 
            "outputs": [], 
            "source": "LIMIT=500\n\ndef getNearbyVenues(names, latitudes, longitudes, radius=500):\n    \n    venues_list=[]\n    for name, lat, lng in zip(names, latitudes, longitudes):\n        print(name)\n            \n        # create the API request URL\n        url = 'https://api.foursquare.com/v2/venues/explore?&client_id={}&client_secret={}&v={}&ll={},{}&radius={}&limit={}'.format(\n            CLIENT_ID, \n            CLIENT_SECRET, \n            VERSION, \n            lat, \n            lng, \n            radius, \n            LIMIT)\n            \n        # make the GET request\n        results = requests.get(url).json()[\"response\"]['groups'][0]['items']\n        \n        # return only relevant information for each nearby venue\n        venues_list.append([(\n            name, \n            lat, \n            lng, \n            v['venue']['name'], \n            v['venue']['location']['lat'], \n            v['venue']['location']['lng'],  \n            v['venue']['categories'][0]['name']) for v in results])\n\n    nearby_venues = pd.DataFrame([item for venue_list in venues_list for item in venue_list])\n    nearby_venues.columns = ['Neighborhood', \n                             'Neighborhood Latitude', \n                             'Neighborhood Longitude', \n                             'Venue', \n                             'Venue Latitude', \n                             'Venue Longitude', \n                             'Venue Category']\n    \n    return(nearby_venues)"
        }, 
        {
            "execution_count": null, 
            "cell_type": "code", 
            "metadata": {}, 
            "outputs": [], 
            "source": "dff.columns"
        }, 
        {
            "execution_count": null, 
            "cell_type": "code", 
            "metadata": {}, 
            "outputs": [], 
            "source": "toronto_venues = getNearbyVenues(names=dff['Neighbourhood'],\n                                 latitudes=dff['Latitude'],\n                                 longitudes=dff['Longitude'])"
        }, 
        {
            "execution_count": null, 
            "cell_type": "code", 
            "metadata": {}, 
            "outputs": [], 
            "source": "len(toronto_venues), type(toronto_venues)"
        }, 
        {
            "execution_count": null, 
            "cell_type": "code", 
            "metadata": {}, 
            "outputs": [], 
            "source": "toronto_venues.head()"
        }, 
        {
            "execution_count": null, 
            "cell_type": "code", 
            "metadata": {}, 
            "outputs": [], 
            "source": "print('There are {} uniques categories.'.format(len(toronto_venues['Venue Category'].unique())))"
        }, 
        {
            "execution_count": null, 
            "cell_type": "code", 
            "metadata": {}, 
            "outputs": [], 
            "source": "sorted(toronto_venues['Venue Category'].unique().tolist())[:10]"
        }, 
        {
            "execution_count": null, 
            "cell_type": "code", 
            "metadata": {}, 
            "outputs": [], 
            "source": "# one hot encoding\ntoronto_onehot = pd.get_dummies(toronto_venues[['Venue Category']], prefix=\"\", prefix_sep=\"\")\n\n# add neighborhood column back to dataframe\ntoronto_onehot['Neighborhood'] = toronto_venues['Neighborhood'] \n\n# move neighborhood column to the first column\nfixed_columns = [toronto_onehot.columns[-1]] + list(toronto_onehot.columns[:-1])\ntoronto_onehot = toronto_onehot[fixed_columns]\n\ntoronto_onehot.head()"
        }, 
        {
            "execution_count": null, 
            "cell_type": "code", 
            "metadata": {}, 
            "outputs": [], 
            "source": "toronto_grouped = toronto_onehot.groupby('Neighborhood').mean().reset_index()\ntoronto_grouped.head()"
        }, 
        {
            "execution_count": null, 
            "cell_type": "code", 
            "metadata": {}, 
            "outputs": [], 
            "source": "toronto_grouped.shape"
        }, 
        {
            "execution_count": null, 
            "cell_type": "code", 
            "metadata": {}, 
            "outputs": [], 
            "source": "def return_most_common_venues(row, num_top_venues):\n    row_categories = row.iloc[1:]\n    row_categories_sorted = row_categories.sort_values(ascending=False)\n    return row_categories_sorted.index.values[0:num_top_venues]"
        }, 
        {
            "execution_count": null, 
            "cell_type": "code", 
            "metadata": {}, 
            "outputs": [], 
            "source": "toronto_grouped.columns"
        }, 
        {
            "execution_count": null, 
            "cell_type": "code", 
            "metadata": {}, 
            "outputs": [], 
            "source": "num_top_venues = 10\n\nindicators = ['st', 'nd', 'rd']\n\n# create columns according to number of top venues\ncolumns = ['Neighborhood']\nfor ind in np.arange(num_top_venues):\n    try:\n        columns.append('{}{} Most Common Venue'.format(ind+1, indicators[ind]))\n    except:\n        columns.append('{}th Most Common Venue'.format(ind+1))\n\n# create a new dataframe\nneighborhoods_venues_sorted = pd.DataFrame(columns=columns)\nneighborhoods_venues_sorted['Neighborhood'] = toronto_grouped['Neighborhood']\n\nfor ind in np.arange(toronto_grouped.shape[0]):\n    neighborhoods_venues_sorted.iloc[ind, 1:] = return_most_common_venues(toronto_grouped.iloc[ind, :], num_top_venues)\n\nneighborhoods_venues_sorted.head()"
        }, 
        {
            "execution_count": null, 
            "cell_type": "code", 
            "metadata": {}, 
            "outputs": [], 
            "source": "from sklearn.cluster import KMeans\n\n# set number of clusters\nkclusters = 5\ntoronto_grouped_clustering = toronto_grouped.drop('Neighborhood', 1)\n\n# run k-means clustering\nkmeans = KMeans(n_clusters=kclusters, random_state=0).fit(toronto_grouped_clustering)\n\n# check cluster labels generated for each row in the dataframe\nkmeans.labels_[0:10]"
        }, 
        {
            "execution_count": null, 
            "cell_type": "code", 
            "metadata": {}, 
            "outputs": [], 
            "source": "tlat, tlng"
        }, 
        {
            "execution_count": null, 
            "cell_type": "code", 
            "metadata": {}, 
            "outputs": [], 
            "source": "# create map\nmap_clusters = folium.Map(location=[tlat, tlng], zoom_start=11)\n\n# set color scheme for the clusters\nx = np.arange(kclusters)\nys = [i + x + (i*x)**2 for i in range(kclusters)]\ncolors_array = cm.rainbow(np.linspace(0, 1, len(ys)))\nrainbow = [colors.rgb2hex(i) for i in colors_array]\n\n# add markers to the map\nmarkers_colors = []\nfor lat, lon, poi, cluster in zip(toronto_merged['Latitude'], toronto_merged['Longitude'], toronto_merged['Neighborhood'], toronto_merged['Cluster Labels']):\n    label = folium.Popup(str(poi) + ' Cluster ' + str(cluster), parse_html=True)\n    folium.CircleMarker(\n        [lat, lon],\n        radius=5,\n        popup=label,\n        color=rainbow[cluster-1],\n        fill=True,\n        fill_color=rainbow[cluster-1],\n        fill_opacity=0.7).add_to(map_clusters)\n       \nmap_clusters"
        }, 
        {
            "execution_count": null, 
            "cell_type": "code", 
            "metadata": {}, 
            "outputs": [], 
            "source": "c1 = toronto_merged.loc[toronto_merged['Cluster Labels'] == 0, toronto_merged.columns[[1] + list(range(5, toronto_merged.shape[1]))]]\nc1.head()"
        }, 
        {
            "execution_count": null, 
            "cell_type": "code", 
            "metadata": {}, 
            "outputs": [], 
            "source": "c2 = toronto_merged.loc[toronto_merged['Cluster Labels'] == 1, toronto_merged.columns[[1] + list(range(5, toronto_merged.shape[1]))]]\nc2.head()"
        }, 
        {
            "execution_count": null, 
            "cell_type": "code", 
            "metadata": {}, 
            "outputs": [], 
            "source": "c3 = toronto_merged.loc[toronto_merged['Cluster Labels'] == 2, toronto_merged.columns[[1] + list(range(5, toronto_merged.shape[1]))]]\nc3.head()"
        }, 
        {
            "execution_count": null, 
            "cell_type": "code", 
            "metadata": {}, 
            "outputs": [], 
            "source": "c4 = toronto_merged.loc[toronto_merged['Cluster Labels'] == 3, toronto_merged.columns[[1] + list(range(5, toronto_merged.shape[1]))]]\nc4.head()"
        }
    ], 
    "metadata": {
        "kernelspec": {
            "display_name": "Python 3.5", 
            "name": "python3", 
            "language": "python"
        }, 
        "language_info": {
            "mimetype": "text/x-python", 
            "nbconvert_exporter": "python", 
            "version": "3.5.5", 
            "name": "python", 
            "file_extension": ".py", 
            "pygments_lexer": "ipython3", 
            "codemirror_mode": {
                "version": 3, 
                "name": "ipython"
            }
        }
    }, 
    "nbformat": 4
}
{
    "nbformat_minor": 1, 
    "cells": [
        {
            "source": "## The Battle of the Neighborhoods \n", 
            "cell_type": "markdown", 
            "metadata": {
                "collapsed": true
            }
        }, 
        {
            "source": "## Introduction", 
            "cell_type": "markdown", 
            "metadata": {}
        }, 
        {
            "source": "Problem: How best can we use geo-location APIs (e.g. Foursquare) to inform people/users about the rate of crime in the areas they are visiting or they live in, in some instances where they want to setup business ventures?\n\nProblem description\n\nThere has been hundreds of thousands, perhaps millions of crime cases that are reported daily in each and every neighborhood. Such cases are of paramount importance to the visitors, residents and potential business investors of that particular neighborhood, so that they have adequate information on which areas are safe, have high risk and the ones that expose individuals to possible risks e.g. areas that are curfew imposed.\nIn as much as life itself is important the same is noted for business investments that cost millions or billions of dollars. Business investors would be much more interested in knowing the security of the potential investment area and also, if the area is not that much secure how much then can be invested on security alone, thats if the benefits of security investment exceed the risks in the area in question.\n\nApart from the possibly reported crimes it is good for the users of the Geo-location API to be able to know that in some instances well ochestrated crimes are also prevalent in different location, the only thing that can be used to achive this is the use of the collected data.\n\nBackground\n\nThe City of Johannesburg is one of the riskiest cities in Africa and most probably in the World. Safety is a thing of the past in Johanesburg, with a level of Crime that has reached a heartbreaking 88.52%, and a safety percentage of walking alone at night being as low as 8.01% and walking alone in daylight also lower than 50% reaching only 30.47%.\n\nCurbing of crime in any given location can sound or seem insurmountable but with the aid of an information window on the Geo-location API that includes what i would dub a \"CRIMEPEDIA\", this will be basically a feature in the information window that shows all recorded prevalent crimes in a location.When clicked on, this feature shows crime rate against all prevalent crimes, which must be updated on a daily, weekly, monthly and annual basis. Such data will aid the users of the Geo-location API to be aware of which areas are risky in what ways and which areas to avoid.For business professionals on business trips this would also help them in knowing the right and safe hospitality establishments to spend a business trip in.\n\nRecently a lot of commercial crimes, including credit card fraud cases have become a common feature with banks, merchants and individuals losing millions of dollars to unscruplous and malicious individuals who are out there to rob peple of their hard earned funds. With this feature notably all individuals or organisations who might have not have been a victim of any of the crimes would be able to know what is going on around them so to be quickly informed of possible risks. \n\n", 
            "cell_type": "markdown", 
            "metadata": {}
        }, 
        {
            "source": "Target Audience\n\nThe target audience for this project is any individual who cares about their safety, which is most probably everyone existing. Though this is not limited to only the users of the Geo-location API but it would make the Geo-location API a tool that every individual would love to use, hence an unlimited sphere of influence as far as target audience is concerned. ", 
            "cell_type": "markdown", 
            "metadata": {}
        }, 
        {
            "source": "## Data", 
            "cell_type": "markdown", 
            "metadata": {}
        }, 
        {
            "source": "The data that is required for this project to be a success is, all the crime cases that have been recorded in each and every area that the Geo-location API will be covering in the City of Johannesburg. This data will be important to be known where it is acquired and how it is acquired. Realible sources of this data are very important since this data are data that individuals and companies would bank on when it comes to their safety in that particular area.\n\nThis Data would include but not limited to the following cases; rape,robbery, murder,house breaking,cash in transit heist,homicide,credit card fraud,drug trafficking, drug merchants, human trafficking etc. A very careful stride would be taken in regards to the Data Privacy Policy of the City of Johannesburg in regards to the data that would be released to achieve the goals of the Project, for instance if any of the cases reported are some how sensitive such must be taken into consideration and the users of the data be prewarned on the importance and the consequences of data misuse.\n\nSources of the data\n\nThe most reliable and best sources of the data would be but not limited to police stations, judiciary systems(courts of law i.e. criminal courts, small claims courts, civil courts etc.), anti-fraud campaign centers, trauma centers(for surviving victims of human trafficking), drug rehabilitation centers, law firms and statistical offices.These are some of the relevant sources of data but also interviews with the communities of the locations in question can also be conducted so as to be aware of those cases that are not reported but count to the statictics of this project. \n\nData usage\n\nFor the locations of the City in question, this data will be processed and will be published to the public through the Geo-location API. A statistical analysis will be done in regards to the data that is obscure or that data that is from the interviews that are done from the community member of these locations. It will also be an important part of the project to also make an analytic approach when it comes to that data that is solid and concretely received from the reliable sources.\n\nThousands and perhaps millions of people will be using this Geo-location API so it is very important for them to be also able to submit their own cases so as to increase awareness of the risks involved in a certain location. Though this data from users will also fall under statistical analysis since it is hard to get the possitive truths in those data. \n\n", 
            "cell_type": "markdown", 
            "metadata": {}
        }, 
        {
            "source": "", 
            "cell_type": "code", 
            "metadata": {}, 
            "outputs": [], 
            "execution_count": null
        }
    ], 
    "metadata": {
        "kernelspec": {
            "display_name": "Python 3.5", 
            "name": "python3", 
            "language": "python"
        }, 
        "language_info": {
            "mimetype": "text/x-python", 
            "nbconvert_exporter": "python", 
            "version": "3.5.5", 
            "name": "python", 
            "file_extension": ".py", 
            "pygments_lexer": "ipython3", 
            "codemirror_mode": {
                "version": 3, 
                "name": "ipython"
            }
        }
    }, 
    "nbformat": 4
}

Exploratory Data Analysis
